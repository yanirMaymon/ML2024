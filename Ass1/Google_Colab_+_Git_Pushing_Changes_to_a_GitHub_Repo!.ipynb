{
  "nbformat": 4,
  "nbformat_minor": 0,
  "metadata": {
    "colab": {
      "provenance": [],
      "include_colab_link": true
    },
    "kernelspec": {
      "name": "python3",
      "display_name": "Python 3"
    },
    "language_info": {
      "name": "python"
    }
  },
  "cells": [
    {
      "cell_type": "markdown",
      "metadata": {
        "id": "view-in-github",
        "colab_type": "text"
      },
      "source": [
        "<a href=\"https://colab.research.google.com/github/ad17171717/YouTube-Tutorials/blob/main/Google%20Colab%20Tutorials/Google_Colab_%2B_Git_Pushing_Changes_to_a_GitHub_Repo!.ipynb\" target=\"_parent\"><img src=\"https://colab.research.google.com/assets/colab-badge.svg\" alt=\"Open In Colab\"/></a>"
      ]
    },
    {
      "cell_type": "markdown",
      "metadata": {
        "id": "biNcv9lKJtlK"
      },
      "source": [
        "# **Git**\n",
        "\n",
        "**Git is an open source distributed version control system designed to handle a variety of projects with speed and efficiency.**\n",
        "\n",
        "**Version control is the practice of tracking and managing changes to software code.**"
      ]
    },
    {
      "cell_type": "markdown",
      "metadata": {
        "id": "Ain0_pZFNRPD"
      },
      "source": [
        "## **Git and GitHub**\n",
        "\n",
        "**Git is a version control system that lets you manage and keep track of your source code history. GitHub is a cloud-based hosting service that lets you manage Git repositories. If you have open-source projects that use Git, then GitHub is designed to help you better manage them.**"
      ]
    },
    {
      "cell_type": "markdown",
      "metadata": {
        "id": "ZDLlshA0Oz9Q"
      },
      "source": [
        "<sup>Source: [Git vs. GitHub: What's the Difference?](https://www.investopedia.com/terms/e/europeanoption.asp) from Devmountain</sup>"
      ]
    },
    {
      "cell_type": "code",
      "metadata": {
        "id": "tbVE8h46Jt4o"
      },
      "source": [
        "!git config --global user.name \"your_username\"\n",
        "!git config --global user.email \"youremail@yahoo.com\"\n",
        "!git config --global user.password \"y0urp4SSw0Rd!\""
      ],
      "execution_count": null,
      "outputs": []
    },
    {
      "cell_type": "code",
      "metadata": {
        "id": "BMZQXiMr6l0Z"
      },
      "source": [
        "token = 'your_token'\n",
        "username = 'your_username'\n",
        "repo = 'your_repo_name'"
      ],
      "execution_count": null,
      "outputs": []
    },
    {
      "cell_type": "code",
      "metadata": {
        "id": "QJr0hdqlzch7"
      },
      "source": [
        "!git clone https://{token}@github.com/{username}/{repo}"
      ],
      "execution_count": null,
      "outputs": []
    },
    {
      "cell_type": "code",
      "metadata": {
        "id": "1HJ-OfLv6_0y"
      },
      "source": [
        "%cd {repo}"
      ],
      "execution_count": null,
      "outputs": []
    },
    {
      "cell_type": "code",
      "metadata": {
        "id": "h6mrnrbP-3vW"
      },
      "source": [
        "%ls"
      ],
      "execution_count": null,
      "outputs": []
    },
    {
      "cell_type": "code",
      "metadata": {
        "id": "Hb6fa_C5EqY5"
      },
      "source": [
        "!mv /content/Check_If_Two_String_Arrays_are_Equivalent.ipynb /content/LeetCode-HackerRank-Solutions-and-More/Solutions"
      ],
      "execution_count": null,
      "outputs": []
    },
    {
      "cell_type": "code",
      "metadata": {
        "id": "N3EwkTkt7JzG"
      },
      "source": [
        "!git status"
      ],
      "execution_count": null,
      "outputs": []
    },
    {
      "cell_type": "code",
      "metadata": {
        "id": "0ExrOLZBGLbA"
      },
      "source": [
        "!git add --all"
      ],
      "execution_count": null,
      "outputs": []
    },
    {
      "cell_type": "code",
      "metadata": {
        "id": "99adoQGx2eny"
      },
      "source": [
        "!git commit -a -m \"Added a file to the LeetCode folder\""
      ],
      "execution_count": null,
      "outputs": []
    },
    {
      "cell_type": "code",
      "metadata": {
        "id": "zIKEeN0RFtb3"
      },
      "source": [
        "!git remote -v"
      ],
      "execution_count": null,
      "outputs": []
    },
    {
      "cell_type": "code",
      "metadata": {
        "id": "IePYQt1lG--X"
      },
      "source": [
        "!git push origin master"
      ],
      "execution_count": null,
      "outputs": []
    },
    {
      "cell_type": "markdown",
      "metadata": {
        "id": "alf034sGIAJl"
      },
      "source": [
        "# **References and Additional Learning**"
      ]
    },
    {
      "cell_type": "markdown",
      "metadata": {
        "id": "X-hOtJObIaB9"
      },
      "source": [
        "## **Videos**\n",
        "\n",
        "- **[Cloning Repo and Push/Pull - Git and GitHub for Poets](https://www.youtube.com/watch?v=yXT1ElMEkW8&ab_channel=TheCodingTrain) from The Coding Train**"
      ]
    },
    {
      "cell_type": "markdown",
      "metadata": {
        "id": "N25RcIxzJCiO"
      },
      "source": [
        "## **Websites**\n",
        "\n",
        "- **[Git Commands](https://www.git-tower.com/learn/git/commands/git-remote) from Tower**\n",
        "\n",
        "- **[Git Documentation](https://git-scm.com/doc) from git-scm.com**\n",
        "\n",
        "- **[Git vs. GitHub: What's the Difference?](https://www.investopedia.com/terms/e/europeanoption.asp) from Devmountain**"
      ]
    },
    {
      "cell_type": "markdown",
      "source": [
        "# **Connect**\n",
        "- **Feel free to connect with Adrian on [YouTube](https://www.youtube.com/channel/UCPuDxI3xb_ryUUMfkm0jsRA), [LinkedIn](https://www.linkedin.com/in/adrian-dolinay-frm-96a289106/), [Twitter](https://twitter.com/DolinayG), [GitHub](https://github.com/ad17171717), [Medium](https://adriandolinay.medium.com/) and [Odysee](https://odysee.com/@adriandolinay:0). Happy coding!**"
      ],
      "metadata": {
        "id": "28BWG_S0bU8q"
      }
    }
  ]
}